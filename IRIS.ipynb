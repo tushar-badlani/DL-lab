{
  "cells": [
    {
      "cell_type": "markdown",
      "metadata": {
        "id": "view-in-github",
        "colab_type": "text"
      },
      "source": [
        "<a href=\"https://colab.research.google.com/github/tushar-badlani/DL-lab/blob/main/IRIS.ipynb\" target=\"_parent\"><img src=\"https://colab.research.google.com/assets/colab-badge.svg\" alt=\"Open In Colab\"/></a>"
      ]
    },
    {
      "cell_type": "code",
      "execution_count": 180,
      "metadata": {
        "id": "uGyNcVZK5Osc"
      },
      "outputs": [],
      "source": [
        "import numpy as np\n",
        "import pandas as pd\n",
        "from sklearn import datasets\n",
        "import sklearn\n",
        "import torch\n",
        "import torch.nn as nn\n",
        "import matplotlib.pyplot as plt\n",
        "from sklearn.model_selection import train_test_split"
      ]
    },
    {
      "cell_type": "code",
      "execution_count": 181,
      "metadata": {
        "colab": {
          "base_uri": "https://localhost:8080/"
        },
        "id": "buySR39F5jDg",
        "outputId": "e8e8e7ea-1948-433b-f683-10ae73b75d56"
      },
      "outputs": [
        {
          "output_type": "stream",
          "name": "stdout",
          "text": [
            "[[5.1 3.5 1.4 0.2]\n",
            " [4.9 3.  1.4 0.2]\n",
            " [4.7 3.2 1.3 0.2]\n",
            " [4.6 3.1 1.5 0.2]\n",
            " [5.  3.6 1.4 0.2]\n",
            " [5.4 3.9 1.7 0.4]\n",
            " [4.6 3.4 1.4 0.3]\n",
            " [5.  3.4 1.5 0.2]\n",
            " [4.4 2.9 1.4 0.2]\n",
            " [4.9 3.1 1.5 0.1]\n",
            " [5.4 3.7 1.5 0.2]\n",
            " [4.8 3.4 1.6 0.2]\n",
            " [4.8 3.  1.4 0.1]\n",
            " [4.3 3.  1.1 0.1]\n",
            " [5.8 4.  1.2 0.2]\n",
            " [5.7 4.4 1.5 0.4]\n",
            " [5.4 3.9 1.3 0.4]\n",
            " [5.1 3.5 1.4 0.3]\n",
            " [5.7 3.8 1.7 0.3]\n",
            " [5.1 3.8 1.5 0.3]\n",
            " [5.4 3.4 1.7 0.2]\n",
            " [5.1 3.7 1.5 0.4]\n",
            " [4.6 3.6 1.  0.2]\n",
            " [5.1 3.3 1.7 0.5]\n",
            " [4.8 3.4 1.9 0.2]\n",
            " [5.  3.  1.6 0.2]\n",
            " [5.  3.4 1.6 0.4]\n",
            " [5.2 3.5 1.5 0.2]\n",
            " [5.2 3.4 1.4 0.2]\n",
            " [4.7 3.2 1.6 0.2]\n",
            " [4.8 3.1 1.6 0.2]\n",
            " [5.4 3.4 1.5 0.4]\n",
            " [5.2 4.1 1.5 0.1]\n",
            " [5.5 4.2 1.4 0.2]\n",
            " [4.9 3.1 1.5 0.2]\n",
            " [5.  3.2 1.2 0.2]\n",
            " [5.5 3.5 1.3 0.2]\n",
            " [4.9 3.6 1.4 0.1]\n",
            " [4.4 3.  1.3 0.2]\n",
            " [5.1 3.4 1.5 0.2]\n",
            " [5.  3.5 1.3 0.3]\n",
            " [4.5 2.3 1.3 0.3]\n",
            " [4.4 3.2 1.3 0.2]\n",
            " [5.  3.5 1.6 0.6]\n",
            " [5.1 3.8 1.9 0.4]\n",
            " [4.8 3.  1.4 0.3]\n",
            " [5.1 3.8 1.6 0.2]\n",
            " [4.6 3.2 1.4 0.2]\n",
            " [5.3 3.7 1.5 0.2]\n",
            " [5.  3.3 1.4 0.2]\n",
            " [7.  3.2 4.7 1.4]\n",
            " [6.4 3.2 4.5 1.5]\n",
            " [6.9 3.1 4.9 1.5]\n",
            " [5.5 2.3 4.  1.3]\n",
            " [6.5 2.8 4.6 1.5]\n",
            " [5.7 2.8 4.5 1.3]\n",
            " [6.3 3.3 4.7 1.6]\n",
            " [4.9 2.4 3.3 1. ]\n",
            " [6.6 2.9 4.6 1.3]\n",
            " [5.2 2.7 3.9 1.4]\n",
            " [5.  2.  3.5 1. ]\n",
            " [5.9 3.  4.2 1.5]\n",
            " [6.  2.2 4.  1. ]\n",
            " [6.1 2.9 4.7 1.4]\n",
            " [5.6 2.9 3.6 1.3]\n",
            " [6.7 3.1 4.4 1.4]\n",
            " [5.6 3.  4.5 1.5]\n",
            " [5.8 2.7 4.1 1. ]\n",
            " [6.2 2.2 4.5 1.5]\n",
            " [5.6 2.5 3.9 1.1]\n",
            " [5.9 3.2 4.8 1.8]\n",
            " [6.1 2.8 4.  1.3]\n",
            " [6.3 2.5 4.9 1.5]\n",
            " [6.1 2.8 4.7 1.2]\n",
            " [6.4 2.9 4.3 1.3]\n",
            " [6.6 3.  4.4 1.4]\n",
            " [6.8 2.8 4.8 1.4]\n",
            " [6.7 3.  5.  1.7]\n",
            " [6.  2.9 4.5 1.5]\n",
            " [5.7 2.6 3.5 1. ]\n",
            " [5.5 2.4 3.8 1.1]\n",
            " [5.5 2.4 3.7 1. ]\n",
            " [5.8 2.7 3.9 1.2]\n",
            " [6.  2.7 5.1 1.6]\n",
            " [5.4 3.  4.5 1.5]\n",
            " [6.  3.4 4.5 1.6]\n",
            " [6.7 3.1 4.7 1.5]\n",
            " [6.3 2.3 4.4 1.3]\n",
            " [5.6 3.  4.1 1.3]\n",
            " [5.5 2.5 4.  1.3]\n",
            " [5.5 2.6 4.4 1.2]\n",
            " [6.1 3.  4.6 1.4]\n",
            " [5.8 2.6 4.  1.2]\n",
            " [5.  2.3 3.3 1. ]\n",
            " [5.6 2.7 4.2 1.3]\n",
            " [5.7 3.  4.2 1.2]\n",
            " [5.7 2.9 4.2 1.3]\n",
            " [6.2 2.9 4.3 1.3]\n",
            " [5.1 2.5 3.  1.1]\n",
            " [5.7 2.8 4.1 1.3]\n",
            " [6.3 3.3 6.  2.5]\n",
            " [5.8 2.7 5.1 1.9]\n",
            " [7.1 3.  5.9 2.1]\n",
            " [6.3 2.9 5.6 1.8]\n",
            " [6.5 3.  5.8 2.2]\n",
            " [7.6 3.  6.6 2.1]\n",
            " [4.9 2.5 4.5 1.7]\n",
            " [7.3 2.9 6.3 1.8]\n",
            " [6.7 2.5 5.8 1.8]\n",
            " [7.2 3.6 6.1 2.5]\n",
            " [6.5 3.2 5.1 2. ]\n",
            " [6.4 2.7 5.3 1.9]\n",
            " [6.8 3.  5.5 2.1]\n",
            " [5.7 2.5 5.  2. ]\n",
            " [5.8 2.8 5.1 2.4]\n",
            " [6.4 3.2 5.3 2.3]\n",
            " [6.5 3.  5.5 1.8]\n",
            " [7.7 3.8 6.7 2.2]\n",
            " [7.7 2.6 6.9 2.3]\n",
            " [6.  2.2 5.  1.5]\n",
            " [6.9 3.2 5.7 2.3]\n",
            " [5.6 2.8 4.9 2. ]\n",
            " [7.7 2.8 6.7 2. ]\n",
            " [6.3 2.7 4.9 1.8]\n",
            " [6.7 3.3 5.7 2.1]\n",
            " [7.2 3.2 6.  1.8]\n",
            " [6.2 2.8 4.8 1.8]\n",
            " [6.1 3.  4.9 1.8]\n",
            " [6.4 2.8 5.6 2.1]\n",
            " [7.2 3.  5.8 1.6]\n",
            " [7.4 2.8 6.1 1.9]\n",
            " [7.9 3.8 6.4 2. ]\n",
            " [6.4 2.8 5.6 2.2]\n",
            " [6.3 2.8 5.1 1.5]\n",
            " [6.1 2.6 5.6 1.4]\n",
            " [7.7 3.  6.1 2.3]\n",
            " [6.3 3.4 5.6 2.4]\n",
            " [6.4 3.1 5.5 1.8]\n",
            " [6.  3.  4.8 1.8]\n",
            " [6.9 3.1 5.4 2.1]\n",
            " [6.7 3.1 5.6 2.4]\n",
            " [6.9 3.1 5.1 2.3]\n",
            " [5.8 2.7 5.1 1.9]\n",
            " [6.8 3.2 5.9 2.3]\n",
            " [6.7 3.3 5.7 2.5]\n",
            " [6.7 3.  5.2 2.3]\n",
            " [6.3 2.5 5.  1.9]\n",
            " [6.5 3.  5.2 2. ]\n",
            " [6.2 3.4 5.4 2.3]\n",
            " [5.9 3.  5.1 1.8]]\n"
          ]
        }
      ],
      "source": [
        "dataset = datasets.load_iris()\n",
        "print(dataset.data)"
      ]
    },
    {
      "cell_type": "code",
      "execution_count": 182,
      "metadata": {
        "colab": {
          "base_uri": "https://localhost:8080/"
        },
        "id": "FltL_axg6MSH",
        "outputId": "1ef12f24-c649-4484-f071-c996dc0f9da2"
      },
      "outputs": [
        {
          "output_type": "execute_result",
          "data": {
            "text/plain": [
              "array([0, 0, 0, 0, 0, 0, 0, 0, 0, 0, 0, 0, 0, 0, 0, 0, 0, 0, 0, 0, 0, 0,\n",
              "       0, 0, 0, 0, 0, 0, 0, 0, 0, 0, 0, 0, 0, 0, 0, 0, 0, 0, 0, 0, 0, 0,\n",
              "       0, 0, 0, 0, 0, 0, 1, 1, 1, 1, 1, 1, 1, 1, 1, 1, 1, 1, 1, 1, 1, 1,\n",
              "       1, 1, 1, 1, 1, 1, 1, 1, 1, 1, 1, 1, 1, 1, 1, 1, 1, 1, 1, 1, 1, 1,\n",
              "       1, 1, 1, 1, 1, 1, 1, 1, 1, 1, 1, 1, 2, 2, 2, 2, 2, 2, 2, 2, 2, 2,\n",
              "       2, 2, 2, 2, 2, 2, 2, 2, 2, 2, 2, 2, 2, 2, 2, 2, 2, 2, 2, 2, 2, 2,\n",
              "       2, 2, 2, 2, 2, 2, 2, 2, 2, 2, 2, 2, 2, 2, 2, 2, 2, 2])"
            ]
          },
          "metadata": {},
          "execution_count": 182
        }
      ],
      "source": [
        "dataset.target"
      ]
    },
    {
      "cell_type": "code",
      "execution_count": 183,
      "metadata": {
        "id": "ME6IpzVb6TD_"
      },
      "outputs": [],
      "source": [
        "X_test, X_train, y_test, y_train = train_test_split(dataset.data, dataset.target, test_size=0.2, random_state=5)"
      ]
    },
    {
      "cell_type": "code",
      "execution_count": 184,
      "metadata": {
        "id": "q2eNdaNu6o-s"
      },
      "outputs": [],
      "source": [
        "X_tensor = torch.from_numpy(X_train).float()\n",
        "Y_tensor = torch.from_numpy(y_train).long()\n",
        "x_tensor = torch.from_numpy(X_test).float()\n",
        "y_tensor = torch.from_numpy(y_test).long()\n",
        "\n",
        "\n"
      ]
    },
    {
      "cell_type": "code",
      "execution_count": 185,
      "metadata": {
        "id": "vwPC9mNJ7k8x"
      },
      "outputs": [],
      "source": [
        "class Model(nn.Module):\n",
        "    def __init__(self, input, output):\n",
        "      super(Model, self).__init__()\n",
        "      self.layer1 = nn.Linear(input,5)\n",
        "      self.layer2 = nn.Linear(5,7)\n",
        "      self.layer3 = nn.Linear(7,3)\n",
        "      self.layer4 = nn.Linear(3,output)\n",
        "      self.relu = nn.ReLU()\n",
        "      self.softmax = nn.Softmax(dim=1)\n",
        "\n",
        "    def forward(self,x):\n",
        "      x = self.layer1(x)\n",
        "      x = self.relu(x)\n",
        "      x = self.layer2(x)\n",
        "      x = self.relu(x)\n",
        "      x = self.layer3(x)\n",
        "      x = self.relu(x)\n",
        "      x = self.layer4(x)\n",
        "      x = self.softmax(x)\n",
        "      return x\n"
      ]
    },
    {
      "cell_type": "code",
      "execution_count": 186,
      "metadata": {
        "id": "sB1kyMui8GgZ"
      },
      "outputs": [],
      "source": [
        "model = Model(4,3)"
      ]
    },
    {
      "cell_type": "code",
      "execution_count": 187,
      "metadata": {
        "id": "aawt1FVQ8eb8"
      },
      "outputs": [],
      "source": [
        "criterion = nn.CrossEntropyLoss()\n",
        "optimizer = torch.optim.Adam(model.parameters(), lr=0.01)"
      ]
    },
    {
      "cell_type": "code",
      "execution_count": 188,
      "metadata": {
        "id": "xPHeE4XD8rLF"
      },
      "outputs": [],
      "source": [
        "loses =[]\n",
        "test = []"
      ]
    },
    {
      "cell_type": "code",
      "execution_count": 189,
      "metadata": {
        "colab": {
          "base_uri": "https://localhost:8080/"
        },
        "id": "Sz3ssa5R8gK6",
        "outputId": "b3fb11a9-ce16-49d4-aec1-bbce87170d09"
      },
      "outputs": [
        {
          "output_type": "stream",
          "name": "stdout",
          "text": [
            "epoch:  0 loss:  1.0932822227478027\n",
            "epoch:  0 test_loss:  1.1003307104110718\n",
            "epoch:  50 loss:  0.917937695980072\n",
            "epoch:  50 test_loss:  0.9279381036758423\n",
            "epoch:  100 loss:  0.6733993887901306\n",
            "epoch:  100 test_loss:  0.6750844717025757\n",
            "epoch:  150 loss:  0.6178252696990967\n",
            "epoch:  150 test_loss:  0.6174541711807251\n",
            "epoch:  200 loss:  0.6021281480789185\n",
            "epoch:  200 test_loss:  0.6038421988487244\n",
            "epoch:  250 loss:  0.5927861332893372\n",
            "epoch:  250 test_loss:  0.5934981107711792\n",
            "epoch:  300 loss:  0.5853356719017029\n",
            "epoch:  300 test_loss:  0.5874468088150024\n",
            "epoch:  350 loss:  0.5790292620658875\n",
            "epoch:  350 test_loss:  0.5827770233154297\n",
            "epoch:  400 loss:  0.5729581117630005\n",
            "epoch:  400 test_loss:  0.5824653506278992\n",
            "epoch:  450 loss:  0.5684117078781128\n",
            "epoch:  450 test_loss:  0.5824031233787537\n",
            "epoch:  500 loss:  0.5642015337944031\n",
            "epoch:  500 test_loss:  0.5812830328941345\n",
            "epoch:  550 loss:  0.5617001056671143\n",
            "epoch:  550 test_loss:  0.5799993276596069\n",
            "epoch:  600 loss:  0.5594577193260193\n",
            "epoch:  600 test_loss:  0.5811092853546143\n",
            "epoch:  650 loss:  0.5579981207847595\n",
            "epoch:  650 test_loss:  0.5814609527587891\n",
            "epoch:  700 loss:  0.556877851486206\n",
            "epoch:  700 test_loss:  0.5819650888442993\n",
            "epoch:  750 loss:  0.5560236573219299\n",
            "epoch:  750 test_loss:  0.5822257399559021\n",
            "epoch:  800 loss:  0.5553602576255798\n",
            "epoch:  800 test_loss:  0.5827179551124573\n",
            "epoch:  850 loss:  0.5548311471939087\n",
            "epoch:  850 test_loss:  0.5828688740730286\n",
            "epoch:  900 loss:  0.5544068813323975\n",
            "epoch:  900 test_loss:  0.583288848400116\n",
            "epoch:  950 loss:  0.5540603399276733\n",
            "epoch:  950 test_loss:  0.5835412740707397\n"
          ]
        }
      ],
      "source": [
        "epochs = 1000\n",
        "for epoch in range(epochs):\n",
        "  model.train()\n",
        "  y_pred = model(X_tensor)\n",
        "  loss = criterion(y_pred, Y_tensor)\n",
        "  # test_loss = criterion(model(x_tensor), y_tensor)\n",
        "  # test.append(test_loss.item())\n",
        "  loses.append(loss.item())\n",
        "  if epoch % 50 == 0:\n",
        "    print('epoch: ', epoch, 'loss: ', loss.item())\n",
        "  optimizer.zero_grad()\n",
        "  loss.backward()\n",
        "  optimizer.step()\n",
        "  model.eval()\n",
        "  with torch.inference_mode():\n",
        "    y_pred = model(x_tensor)\n",
        "    test_loss = criterion(y_pred, y_tensor)\n",
        "    test.append(test_loss.item())\n",
        "    if epoch % 50 == 0:\n",
        "      print('epoch: ', epoch, 'test_loss: ', test_loss.item())\n",
        "\n"
      ]
    },
    {
      "cell_type": "code",
      "source": [],
      "metadata": {
        "id": "W2-t5UsoDQpl"
      },
      "execution_count": 189,
      "outputs": []
    },
    {
      "cell_type": "code",
      "execution_count": 190,
      "metadata": {
        "colab": {
          "base_uri": "https://localhost:8080/",
          "height": 430
        },
        "id": "osYbJR3j9imT",
        "outputId": "d04fab11-4d40-4d64-8ea9-f8fae595466e"
      },
      "outputs": [
        {
          "output_type": "display_data",
          "data": {
            "text/plain": [
              "<Figure size 640x480 with 1 Axes>"
            ],
            "image/png": "[encoded data removed]"
          },
          "metadata": {}
        }
      ],
      "source": [
        "xs = [x for x in range(len(loses))]\n",
        "plt.plot(xs, loses)\n",
        "plt.plot(xs, test)\n",
        "plt.show()"
      ]
    },
    {
      "cell_type": "code",
      "execution_count": 191,
      "metadata": {
        "colab": {
          "base_uri": "https://localhost:8080/"
        },
        "id": "CAxJMUZ2-zNI",
        "outputId": "94925d9e-efe0-42ac-d814-955b105c9c04"
      },
      "outputs": [
        {
          "output_type": "stream",
          "name": "stdout",
          "text": [
            "tensor([0, 1, 1, 0, 1, 0, 0, 2, 0, 2, 2, 1, 0, 0, 1, 1, 1, 2, 2, 0, 2, 0, 0, 0,\n",
            "        0, 1, 1, 1, 0, 2, 1, 2, 2, 1, 0, 1, 0, 1, 2, 1, 2, 1, 2, 1, 1, 1, 2, 1,\n",
            "        0, 2, 0, 0, 1, 0, 0, 2, 1, 0, 2, 0, 2, 1, 0, 0, 2, 1, 1, 0, 0, 2, 1, 1,\n",
            "        0, 1, 1, 1, 0, 1, 2, 2, 2, 2, 0, 0, 2, 2, 0, 1, 0, 0, 2, 1, 2, 0, 2, 0,\n",
            "        2, 0, 1, 0, 2, 2, 0, 2, 2, 2, 1, 0, 1, 0, 0, 1, 2, 0, 2, 0, 1, 2, 2, 1])\n"
          ]
        }
      ],
      "source": [
        "y_pred = model(x_tensor)\n",
        "_, predicted = torch.max(y_pred, 1)\n",
        "print(predicted)"
      ]
    },
    {
      "cell_type": "code",
      "source": [
        "from sklearn.metrics import accuracy_score, precision_score, recall_score, f1_score\n",
        "\n",
        "print(accuracy_score(y_tensor, predicted))\n",
        "print(precision_score(y_tensor, predicted, average='macro'))\n",
        "print(recall_score(y_tensor, predicted, average='macro'))\n",
        "print(f1_score(y_tensor, predicted, average='macro'))"
      ],
      "metadata": {
        "colab": {
          "base_uri": "https://localhost:8080/"
        },
        "id": "IIR-pRP9A_lw",
        "outputId": "43688add-109e-46de-b70e-e7046d156953"
      },
      "execution_count": 192,
      "outputs": [
        {
          "output_type": "stream",
          "name": "stdout",
          "text": [
            "0.9666666666666667\n",
            "0.9663821150969253\n",
            "0.9658119658119658\n",
            "0.9659974012915189\n"
          ]
        }
      ]
    }
  ],
  "metadata": {
    "colab": {
      "provenance": [],
      "authorship_tag": "ABX9TyOy+xDR/taYXPEr+ThM6JM3",
      "include_colab_link": true
    },
    "kernelspec": {
      "display_name": "Python 3",
      "name": "python3"
    },
    "language_info": {
      "name": "python"
    }
  },
  "nbformat": 4,
  "nbformat_minor": 0
}